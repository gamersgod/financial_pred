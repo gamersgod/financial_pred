{
 "cells": [
  {
   "cell_type": "code",
   "execution_count": 74,
   "metadata": {},
   "outputs": [],
   "source": [
    "import pandas as pd\n",
    "import numpy as np"
   ]
  },
  {
   "cell_type": "code",
   "execution_count": 176,
   "metadata": {},
   "outputs": [],
   "source": [
    "train_data = pd.read_csv(\"data/train_data300_481_10.csv\")"
   ]
  },
  {
   "cell_type": "code",
   "execution_count": 77,
   "metadata": {},
   "outputs": [],
   "source": [
    "corr_data = pd.read_csv(\"dataset/corr_data.csv\")"
   ]
  },
  {
   "cell_type": "code",
   "execution_count": 82,
   "metadata": {},
   "outputs": [
    {
     "data": {
      "text/plain": [
       "0    0.977334\n",
       "1    0.956373\n",
       "2    0.971910\n",
       "3    0.982417\n",
       "4    0.967897\n",
       "Name: 2015-12-29, dtype: float64"
      ]
     },
     "execution_count": 82,
     "metadata": {},
     "output_type": "execute_result"
    }
   ],
   "source": [
    "corr_data.iloc[:, 60].head()"
   ]
  },
  {
   "cell_type": "code",
   "execution_count": 177,
   "metadata": {},
   "outputs": [],
   "source": [
    "for i in range(0, 19):\n",
    "    start = i*10 + 300\n",
    "    corr_value = corr_data.iloc[:, start-16:start-1]\n",
    "    train_data.loc[i*19900:(i+1)*19900-1, \"corr_max_15\"] = corr_value.max(axis=1).values\n",
    "    train_data.loc[i*19900:(i+1)*19900-1, \"corr_min_15\"] = corr_value.min(axis=1).values\n",
    "    train_data.loc[i*19900:(i+1)*19900-1, \"corr_mean_15\"] = corr_value.mean(axis=1).values\n",
    "    train_data.loc[i*19900:(i+1)*19900-1, \"corr_std_15\"] = corr_value.std(axis=1).values\n",
    "\n",
    "    corr_value = corr_data.iloc[:, start-8:start-1]\n",
    "    train_data.loc[i*19900:(i+1)*19900-1, \"corr_max_7\"] = corr_value.max(axis=1).values\n",
    "    train_data.loc[i*19900:(i+1)*19900-1, \"corr_min_7\"] = corr_value.min(axis=1).values\n",
    "    train_data.loc[i*19900:(i+1)*19900-1, \"corr_mean_7\"] = corr_value.mean(axis=1).values\n",
    "    train_data.loc[i*19900:(i+1)*19900-1, \"corr_std_7\"] = corr_value.std(axis=1).values"
   ]
  },
  {
   "cell_type": "code",
   "execution_count": 180,
   "metadata": {},
   "outputs": [],
   "source": [
    "train_data.to_csv(\"data/train_data300_481_10.csv\", index=None)"
   ]
  },
  {
   "cell_type": "code",
   "execution_count": 179,
   "metadata": {},
   "outputs": [
    {
     "data": {
      "text/plain": [
       "(378100, 122)"
      ]
     },
     "execution_count": 179,
     "metadata": {},
     "output_type": "execute_result"
    }
   ],
   "source": [
    "train_data.dropna(axis=0).shape"
   ]
  },
  {
   "cell_type": "code",
   "execution_count": 182,
   "metadata": {},
   "outputs": [],
   "source": [
    "train_data0 = pd.read_csv(\"data/train_data1_100_10.csv\")"
   ]
  },
  {
   "cell_type": "code",
   "execution_count": 185,
   "metadata": {},
   "outputs": [],
   "source": [
    "train_data1 = pd.read_csv(\"data/train_data100_200_10.csv\")"
   ]
  },
  {
   "cell_type": "code",
   "execution_count": 211,
   "metadata": {},
   "outputs": [],
   "source": [
    "train_data3 = pd.read_csv(\"data/train_data300_481_10.csv\")"
   ]
  },
  {
   "cell_type": "code",
   "execution_count": 212,
   "metadata": {},
   "outputs": [],
   "source": [
    "train_data = pd.concat([train_data0, train_data1, train_data2, train_data3])"
   ]
  },
  {
   "cell_type": "code",
   "execution_count": 214,
   "metadata": {},
   "outputs": [],
   "source": [
    "train_data.to_csv(\"data/train_data0_481_10_back.csv\", index=None)"
   ]
  },
  {
   "cell_type": "code",
   "execution_count": 210,
   "metadata": {},
   "outputs": [],
   "source": [
    "train_data3.iloc[:, 1:].to_csv(\"data/train_data300_481_10.csv\", index=None)"
   ]
  },
  {
   "cell_type": "code",
   "execution_count": 215,
   "metadata": {},
   "outputs": [
    {
     "data": {
      "text/plain": [
       "(975100, 121)"
      ]
     },
     "execution_count": 215,
     "metadata": {},
     "output_type": "execute_result"
    }
   ],
   "source": [
    "train_data.shape"
   ]
  },
  {
   "cell_type": "code",
   "execution_count": 216,
   "metadata": {},
   "outputs": [
    {
     "data": {
      "text/plain": [
       "(19900, 121)"
      ]
     },
     "execution_count": 216,
     "metadata": {},
     "output_type": "execute_result"
    }
   ],
   "source": [
    "test_data.shape"
   ]
  },
  {
   "cell_type": "code",
   "execution_count": null,
   "metadata": {},
   "outputs": [],
   "source": []
  }
 ],
 "metadata": {
  "kernelspec": {
   "display_name": "Python 3",
   "language": "python",
   "name": "python3"
  },
  "language_info": {
   "codemirror_mode": {
    "name": "ipython",
    "version": 3
   },
   "file_extension": ".py",
   "mimetype": "text/x-python",
   "name": "python",
   "nbconvert_exporter": "python",
   "pygments_lexer": "ipython3",
   "version": "3.5.2"
  }
 },
 "nbformat": 4,
 "nbformat_minor": 2
}
